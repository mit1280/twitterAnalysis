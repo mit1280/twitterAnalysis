{
  "nbformat": 4,
  "nbformat_minor": 0,
  "metadata": {
    "colab": {
      "name": "twitterData.ipynb",
      "provenance": [],
      "collapsed_sections": []
    },
    "kernelspec": {
      "display_name": "Python 3",
      "name": "python3"
    },
    "language_info": {
      "name": "python"
    }
  },
  "cells": [
    {
      "cell_type": "code",
      "metadata": {
        "colab": {
          "base_uri": "https://localhost:8080/"
        },
        "id": "jMuW22BKBJct",
        "outputId": "00faf394-a014-4da3-beaa-02ba6a05df04"
      },
      "source": [
        "!pip install tweepy"
      ],
      "execution_count": null,
      "outputs": [
        {
          "output_type": "stream",
          "text": [
            "Requirement already satisfied: tweepy in /usr/local/lib/python3.7/dist-packages (3.10.0)\n",
            "Requirement already satisfied: requests-oauthlib>=0.7.0 in /usr/local/lib/python3.7/dist-packages (from tweepy) (1.3.0)\n",
            "Requirement already satisfied: requests[socks]>=2.11.1 in /usr/local/lib/python3.7/dist-packages (from tweepy) (2.23.0)\n",
            "Requirement already satisfied: six>=1.10.0 in /usr/local/lib/python3.7/dist-packages (from tweepy) (1.15.0)\n",
            "Requirement already satisfied: oauthlib>=3.0.0 in /usr/local/lib/python3.7/dist-packages (from requests-oauthlib>=0.7.0->tweepy) (3.1.1)\n",
            "Requirement already satisfied: chardet<4,>=3.0.2 in /usr/local/lib/python3.7/dist-packages (from requests[socks]>=2.11.1->tweepy) (3.0.4)\n",
            "Requirement already satisfied: urllib3!=1.25.0,!=1.25.1,<1.26,>=1.21.1 in /usr/local/lib/python3.7/dist-packages (from requests[socks]>=2.11.1->tweepy) (1.24.3)\n",
            "Requirement already satisfied: certifi>=2017.4.17 in /usr/local/lib/python3.7/dist-packages (from requests[socks]>=2.11.1->tweepy) (2021.5.30)\n",
            "Requirement already satisfied: idna<3,>=2.5 in /usr/local/lib/python3.7/dist-packages (from requests[socks]>=2.11.1->tweepy) (2.10)\n",
            "Requirement already satisfied: PySocks!=1.5.7,>=1.5.6; extra == \"socks\" in /usr/local/lib/python3.7/dist-packages (from requests[socks]>=2.11.1->tweepy) (1.7.1)\n"
          ],
          "name": "stdout"
        }
      ]
    },
    {
      "cell_type": "code",
      "metadata": {
        "colab": {
          "base_uri": "https://localhost:8080/"
        },
        "id": "sPT39HIiIK1i",
        "outputId": "c862ded1-a83f-458d-ebaf-699b937847b1"
      },
      "source": [
        "!pip install textblob"
      ],
      "execution_count": null,
      "outputs": [
        {
          "output_type": "stream",
          "text": [
            "Requirement already satisfied: textblob in /usr/local/lib/python3.7/dist-packages (0.15.3)\n",
            "Requirement already satisfied: nltk>=3.1 in /usr/local/lib/python3.7/dist-packages (from textblob) (3.2.5)\n",
            "Requirement already satisfied: six in /usr/local/lib/python3.7/dist-packages (from nltk>=3.1->textblob) (1.15.0)\n"
          ],
          "name": "stdout"
        }
      ]
    },
    {
      "cell_type": "markdown",
      "metadata": {
        "id": "HX2tp8DgiZwk"
      },
      "source": [
        "# Ignore this section if you are doing locally"
      ]
    },
    {
      "cell_type": "code",
      "metadata": {
        "colab": {
          "base_uri": "https://localhost:8080/"
        },
        "id": "dUNpaLTSISCW",
        "outputId": "8019cae1-e19b-44b1-aa32-7c74cbefd475"
      },
      "source": [
        "from google.colab import drive\n",
        "drive.mount('/content/drive')"
      ],
      "execution_count": null,
      "outputs": [
        {
          "output_type": "stream",
          "text": [
            "Mounted at /content/drive\n"
          ],
          "name": "stdout"
        }
      ]
    },
    {
      "cell_type": "code",
      "metadata": {
        "id": "NRQj4NyTIdu-"
      },
      "source": [
        "import csv\n",
        "# open the file in the write mode\n",
        "f = open(\"./drive/My Drive/new.csv\", 'w')"
      ],
      "execution_count": null,
      "outputs": []
    },
    {
      "cell_type": "markdown",
      "metadata": {
        "id": "fRdTrskfi7Nu"
      },
      "source": [
        "# Start From Here"
      ]
    },
    {
      "cell_type": "markdown",
      "metadata": {
        "id": "a9u_mXO1kqc4"
      },
      "source": [
        "Library Imported"
      ]
    },
    {
      "cell_type": "code",
      "metadata": {
        "id": "OVZAfRQsBOlH"
      },
      "source": [
        "import tweepy\n",
        "import re\n",
        "import tweepy\n",
        "from tweepy import OAuthHandler\n",
        "from textblob import TextBlob\n",
        "from geopy.geocoders import Nominatim\n",
        "geolocator = Nominatim(user_agent=\"geoapiExercises\")\n",
        "consumer_key = \"sbAnI5uPhos56fux65hxXwOE2\"\n",
        "consumer_secret = \"oy3C8JLvk7vMihtIzaXdAAd4cK2k28lBDhBcGQlq882Uuj2X4O\"\n",
        "access_token = \"20185148-y7BudlZah0DM05tnqKLNmPzX4lWNoL5wFVGe9Zlaz\"\n",
        "access_token_secret = \"RVabWxPeqSmjwxGDxoanQnKUAleXaGclNVA92F5HTESe8\""
      ],
      "execution_count": null,
      "outputs": []
    },
    {
      "cell_type": "markdown",
      "metadata": {
        "id": "TQF_82FKk4PY"
      },
      "source": [
        "Authentication using Twitter developer key and token"
      ]
    },
    {
      "cell_type": "code",
      "metadata": {
        "id": "_jg5XtdxBUAI"
      },
      "source": [
        "auth = tweepy.OAuthHandler(consumer_key, consumer_secret)\n",
        "# Setting your access token and secret\n",
        "auth.set_access_token(access_token, access_token_secret)\n",
        "# Creating the API object while passing in auth information\n",
        "api = tweepy.API(auth) "
      ],
      "execution_count": null,
      "outputs": []
    },
    {
      "cell_type": "markdown",
      "metadata": {
        "id": "fdtFD8uMlIWe"
      },
      "source": [
        "Sample tweet"
      ]
    },
    {
      "cell_type": "code",
      "metadata": {
        "colab": {
          "base_uri": "https://localhost:8080/"
        },
        "id": "u_BPQkvqBZYb",
        "outputId": "d7f8cff5-1f26-4df9-ae0e-be66f5e4c84d"
      },
      "source": [
        "public_tweets = api.home_timeline()\n",
        "# foreach through all tweets pulled\n",
        "for tweet in public_tweets:\n",
        "   # printing the text stored inside the tweet object\n",
        "   print (tweet.text)"
      ],
      "execution_count": null,
      "outputs": [
        {
          "output_type": "stream",
          "text": [
            "The Stanfield Conversations: Talking Democracy series at #DalhousieU aims to tackle subjects of national and intern… https://t.co/xdqcFK1lnW\n",
            "RT @nytimes: With phone lines down and roadways disrupted, news organizations and emergency officials scrambled to gain access to parts of…\n",
            "📧 Are you subscribed to our NASA Explore newsletter? This week, get info on a cargo delivery to the @Space_Station,… https://t.co/DmFCrJYghi\n",
            "⛅ | Conditions at 6:04 pm: Mainly Sunny, 27.6°C. https://t.co/IdhYC3M2VB\n",
            "RT @tianran: .⁦@RoryStewartUK⁩ notes Britain has cut 76%  of its aid to Afghanistan in the past year will end up dealing with an Afghan ref…\n",
            "RT @DavidKlion: As with Vietnam, a lot of this is actually about refusing to accept that America lost a war, and that lives and treasure an…\n",
            "👇🏽👇🏽👇🏽👇🏽👇🏽 https://t.co/jL9nnkpNBX\n",
            "Let's write a compiler, part 1: Introduction, selecting a language, and planning https://t.co/juWPm4eA3A\n",
            "Robotics roundup: Fields, food, fulfillment and Cyberdog https://t.co/dXCsalMGcS by @bheater https://t.co/mILZZ10XHH\n",
            "God help the people there, especially the Hazaras. In 1998, the Taliban massacred several thousand civilians in Maz… https://t.co/ZyCjXr2Jpc\n",
            "RT @DrEricDing: 📍“Zero ICU beds left for children” judge @clayjenkins says. \"That means if your child's in a car wreck, if your child has s…\n",
            "Team Canada. \n",
            "#cdnpoli https://t.co/Y6a4wqp8Sf\n",
            "2 beaches in 2 days.  🏖☀️🍺\n",
            "Sea, Salt, Sun\n",
            "#Vacation\n",
            "RT @TIME: Inside the SpaceX Crew Dragon: Here's how the Inspiration4 crew will fly to space https://t.co/YSNfIz8DtW https://t.co/yaASrxhhXd\n",
            "RT @KeithGrossman: I love these @coolcatsnft - they are in @TIME’s DNA! 🤣❤️👍🏼\n",
            "\n",
            "Figuring out which one to get! ☺️☺️☺️\n",
            "\n",
            "https://t.co/7QFpLuAL…\n",
            "Geese are jerks.\n",
            "#MeanwhileInCanada https://t.co/tZBIpCasmD\n",
            "Apple's Hide My Email vs. Marketing Lists | MarketingProfs https://t.co/1XANBRaSEP\n",
            "This is so lovingly crafted. A beautiful, visual, step-by-step introduction to how an internal combustion engine wo… https://t.co/H1HZ9UN9ij\n",
            "Canada’s LGBT+ Chamber of Commerce (@theCGLCC) is an advocate for LGBT+ owned businesses. They work hard to remove… https://t.co/PWshqC4uw9\n",
            "RT @Tosh_Mizzau: FFS Canada, stop letting the old control the future of the young.\n",
            "\n",
            "Young people, talk to your friends about the issues. Yo…\n"
          ],
          "name": "stdout"
        }
      ]
    },
    {
      "cell_type": "markdown",
      "metadata": {
        "id": "fz6GdNHblLB7"
      },
      "source": [
        "Fetching tweets in which #biden mentioned"
      ]
    },
    {
      "cell_type": "code",
      "metadata": {
        "id": "sZtrNH9QBs8T"
      },
      "source": [
        "results = tweepy.Cursor(api.search, q=\"#biden\", lang=\"en\").items(1000000)"
      ],
      "execution_count": null,
      "outputs": []
    },
    {
      "cell_type": "markdown",
      "metadata": {
        "id": "0m8tAcDQlQnZ"
      },
      "source": [
        "Applying Sentimental Analysis"
      ]
    },
    {
      "cell_type": "code",
      "metadata": {
        "id": "RKRpoh1_IDbn"
      },
      "source": [
        "def clean_tweet(tweet):\n",
        "  return ' '.join(re.sub(\"(@[A-Za-z0-9]+)|([^0-9A-Za-z \\t])|(\\w+:\\/\\/\\S+)\", \" \", tweet).split())\n",
        "  \n",
        "def get_tweet_sentiment(tweet):\n",
        "        '''\n",
        "        Utility function to classify sentiment of passed tweet\n",
        "        using textblob's sentiment method\n",
        "        '''\n",
        "        # create TextBlob object of passed tweet text\n",
        "        analysis = TextBlob(clean_tweet(tweet))\n",
        "        # set sentiment\n",
        "        if analysis.sentiment.polarity > 0:\n",
        "            return 'positive'\n",
        "        elif analysis.sentiment.polarity == 0:\n",
        "            return 'neutral'\n",
        "        else:\n",
        "            return 'negative'"
      ],
      "execution_count": null,
      "outputs": []
    },
    {
      "cell_type": "markdown",
      "metadata": {
        "id": "tkGa6J3slhgs"
      },
      "source": [
        "This function find state, country and **lang** & **lat** from Json"
      ]
    },
    {
      "cell_type": "code",
      "metadata": {
        "id": "Zpx59XwNdJkZ"
      },
      "source": [
        "def city_state_country(coord):\n",
        "    location = geolocator.reverse(coord, exactly_one=True)\n",
        "    address = location.raw['address']\n",
        "    state = address.get('state', '')\n",
        "    country = address.get('country', '')\n",
        "    return  state, country"
      ],
      "execution_count": null,
      "outputs": []
    },
    {
      "cell_type": "markdown",
      "metadata": {
        "id": "5usTGi7qmW_r"
      },
      "source": [
        "This API fetch location based on "
      ]
    },
    {
      "cell_type": "code",
      "metadata": {
        "colab": {
          "base_uri": "https://localhost:8080/"
        },
        "id": "T8mYlICWFbfH",
        "outputId": "5a5fb13f-9349-4e60-9412-b3713d440410"
      },
      "source": [
        "import requests\n",
        "import urllib.parse\n",
        "\n",
        "address = 'Iowa, USA'\n",
        "url = 'https://nominatim.openstreetmap.org/search/' + urllib.parse.quote(address) +'?format=json'\n",
        "\n",
        "response = requests.get(url).json()\n",
        "\n",
        "print(response[0]['display_name'])"
      ],
      "execution_count": null,
      "outputs": [
        {
          "output_type": "stream",
          "text": [
            "Iowa, United States\n"
          ],
          "name": "stdout"
        }
      ]
    },
    {
      "cell_type": "markdown",
      "metadata": {
        "id": "_WSM7RaVnIhk"
      },
      "source": [
        "Find Color name from Hax color code"
      ]
    },
    {
      "cell_type": "code",
      "metadata": {
        "id": "9QROrQua6ZA5"
      },
      "source": [
        "import re\n",
        "re_color = re.compile('#([0-9a-f]{2})([0-9a-f]{2})([0-9a-f]{2})')\n",
        "from math import sqrt\n",
        "\n",
        "def color_to_rgb(hex):\n",
        "     hex = hex.lstrip('#')\n",
        "     hlen = len(hex)\n",
        "     return tuple(int(hex[i:i+hlen/3], 16) for i in range(0, hlen, hlen/3))\n",
        "\n",
        "def similarity(color1, color2):\n",
        "    \"\"\"Computes the pearson correlation coefficient for two colors. The result\n",
        "    will be between 1.0 (very similar) and -1.0 (no similarity).\"\"\"\n",
        "    c1 = color_to_rgb(color1)\n",
        "    c2 = color_to_rgb(color2)\n",
        "\n",
        "    s1 = sum(c1)\n",
        "    s2 = sum(c2)\n",
        "    sp1 = sum(map(lambda c: pow(c, 2), c1))\n",
        "    sp2 = sum(map(lambda c: pow(c, 2), c2))\n",
        "    sp = sum(map(lambda x: x[0] * x[1], zip(c1, c2)))\n",
        "\n",
        "    try:\n",
        "      computed = (sp - (s1 * s2 / 3.0)) / sqrt((sp1 - pow(s1, 2) / 3.0) * (sp2 - pow(s2, 2) / 3.0))\n",
        "    except:\n",
        "      computed = 0 \n",
        "    return computed\n",
        "\n",
        "color_names = {\n",
        "    '#000000': 'black',\n",
        "    '#ffffff': 'white',\n",
        "    '#808080': 'dark gray',\n",
        "    '#b0b0b0': 'light gray',\n",
        "    '#ff0000': 'red',\n",
        "    '#800000': 'dark red',\n",
        "    '#00ff00': 'green',\n",
        "    '#008000': 'darkgreen',\n",
        "    '#0000ff': 'blue',\n",
        "    '#000080': 'dark blue',\n",
        "    '#ffff00': 'yellow',\n",
        "    '#808000': 'olive',\n",
        "    '#00ffff': 'cyan',\n",
        "    '#ff00ff': 'magenta',\n",
        "    '#800080': 'purple'\n",
        "    }\n",
        "\n",
        "def find_name(color):\n",
        "    sim = [(similarity(color, c), name) for c, name in color_names.items()]\n",
        "    return max(sim, key=lambda x: x[0])[1]\n"
      ],
      "execution_count": null,
      "outputs": []
    },
    {
      "cell_type": "markdown",
      "metadata": {
        "id": "CDvMyOgSnRz_"
      },
      "source": [
        "This Code only generate 5000 row in CSV file. Change **if** condition based on your requirement"
      ]
    },
    {
      "cell_type": "code",
      "metadata": {
        "colab": {
          "background_save": true
        },
        "id": "gLowErWvJmYK"
      },
      "source": [
        "x=1\n",
        "with open(\"./drive/My Drive/new.csv\", 'w') as f:\n",
        "  writer = csv.writer(f)\n",
        "\n",
        "  header = ['ID', 'text', 'Sentiment','Description', 'source','profile_background_color','created_at','followers_count','lat','lon','display_name','verified','favourites_count','retweet_count','statuses_count']\n",
        "  writer.writerow(header)\n",
        "  for tweet in results:\n",
        "    l=[]  \n",
        "    address = tweet.user.location\n",
        "    url = 'https://nominatim.openstreetmap.org/search/' + urllib.parse.quote(address) +'?format=json'\n",
        "    response = requests.get(url).json()\n",
        "    if(x==5000):\n",
        "      break\n",
        "    if(len(response)!=0):\n",
        "      l.append(x)\n",
        "      x=x+1\n",
        "      l.append(tweet.text)\n",
        "      l.append(tweet.user.description)\n",
        "      l.append(get_tweet_sentiment(tweet.text))\n",
        "      l.append(tweet.source)\n",
        "      l.append(tweet.user.profile_background_color)\n",
        "      l.append(tweet.user.created_at)\n",
        "      l.append(tweet.user.followers_count)\n",
        "      l.append(response[0][\"lat\"])\n",
        "      l.append(response[0][\"lon\"])\n",
        "      l.append(city_state_country((response[0][\"lat\"],response[0][\"lon\"])))\n",
        "      l.append(tweet.user.verified)\n",
        "      l.append(tweet.user.favourites_count)\n",
        "      l.append(tweet.retweet_count)\n",
        "      l.append(tweet.user.statuses_count)\n",
        "      writer.writerow(l)\n",
        "  f.close()\n",
        "\n",
        "#done with the code- chcek CSV file"
      ],
      "execution_count": null,
      "outputs": []
    },
    {
      "cell_type": "markdown",
      "metadata": {
        "id": "RqSpWH5ykbzC"
      },
      "source": [
        "## This section Allow you to find tweet based on Text and you can apply your Logic to create Dataset"
      ]
    },
    {
      "cell_type": "code",
      "metadata": {
        "colab": {
          "base_uri": "https://localhost:8080/"
        },
        "id": "gVhFKQ0dEBlQ",
        "outputId": "67b12d4f-cecd-4bea-f46e-973677d71bed"
      },
      "source": [
        "results = api.search(q=\"india\", lang=\"en\")\n",
        "\n",
        "# foreach through all tweets pulled\n",
        "for tweet in results:\n",
        "   # printing the text stored inside the tweet object\n",
        "   print (tweet.user.screen_name,\"Tweeted:\",tweet.text,\"\\n\")"
      ],
      "execution_count": null,
      "outputs": [
        {
          "output_type": "stream",
          "text": [
            "noteigenvector Tweeted: @rranjan_jms @globaltimesnews neche add kr bsdk \"Kashmir is not India\" \n",
            "\n",
            "missp000 Tweeted: RT @SkyCricket: INDIA 8️⃣ DOWN...\n",
            "\n",
            "Two wickets in the over for Boult as, after removing Pant, he has Ashwin caught on the drive at slip #IN… \n",
            "\n",
            "Virendr70147086 Tweeted: RT @AryanGrover11: @KUNALGU12153401 @TIETofficial @ugc_india Exactly, We even called Wheebox Team, They are saying that it's not in their h… \n",
            "\n",
            "Althafps619 Tweeted: RT @benmammutty: After Hindu Banks, keenly waiting to see Hindu Petrol Bunks where no petrol/diesel from Muslim countries, but only from In… \n",
            "\n",
            "Shweta_AOL Tweeted: RT @OfficeOfGurudev: Modern Medicine and Yoga :\n",
            "\n",
            "American College of Physicians India Chapter in conversation with Gurudev @SriSri Ravi Sha… \n",
            "\n",
            "Desi36348029 Tweeted: RT @sanjiv_bhasin: My original call on South India Bank @ 8.50, watch the video for target 25 &amp; press like😎\n",
            "Sanjiv Bhasin's Target of South… \n",
            "\n",
            "Kakashi38933508 Tweeted: @AatmanKamdar Easy win for India. Nz all out for 79. \n",
            "\n",
            "starchinu Tweeted: @imVkohli Dear sir, you are one of the best batsman India has ever produced. You have also delivered some fine resu… https://t.co/9pMs97SJYg \n",
            "\n",
            "Josh04216411 Tweeted: RT @FltLtAnoopVerma: Big Breaking News\n",
            "\n",
            "Huge Explosion next to Terr0rist Hafeez Sayed’s residence in Pakistan\n",
            "\n",
            "No news about him though\n",
            "\n",
            "Pa… \n",
            "\n",
            "ndtv Tweeted: #FYI | \"It is not that there aren't systems in place, it's also a question of awareness\": Tapan Singhel (… https://t.co/KPTe7z2CeF \n",
            "\n",
            "3rQFW5lh2YOBg9i Tweeted: RT @KirenRijiju: I'm ashamed of him because he will never.\n",
            "Whole world has gracefully accepted YOGA but he ridicules! I'm proud that after… \n",
            "\n",
            "Arya57056711 Tweeted: RT @BiggerBosser: Trending in India Trends at No. 9 \n",
            "JASMINs BDAY WEEK with 2k+ tweets as fans of actor @jasminbhasin celebrate in anticipa… \n",
            "\n",
            "mrs_ssr Tweeted: @Dtopbeautyworld @itsSSR I vote for Sushant Singh Rajput from India for #100MostHandsomeMen2021 \n",
            "#TBworld2021… https://t.co/5yRXN2s9OI \n",
            "\n",
            "Prakash1049 Tweeted: RT @ImAbhishek7_: Ye match hum haarne waale hain.\n",
            "Iske piche ek masterstroke hai.\n",
            "WTC ka jo trophy hai, usme ek chip hai jo hum New Zealand… \n",
            "\n",
            "CommonSensed99 Tweeted: RT @amandalitman: India Walton became a mom at 14. She later had premie twins that inspired her to be a nurse. From there she became a non-… \n",
            "\n"
          ],
          "name": "stdout"
        }
      ]
    }
  ]
}